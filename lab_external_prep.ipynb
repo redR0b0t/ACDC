{
  "nbformat": 4,
  "nbformat_minor": 0,
  "metadata": {
    "colab": {
      "name": "lab_external_prep.ipynb",
      "provenance": [],
      "authorship_tag": "ABX9TyOOUyBcT0KtTXEV9MS5bhA6",
      "include_colab_link": true
    },
    "kernelspec": {
      "name": "python3",
      "display_name": "Python 3"
    },
    "language_info": {
      "name": "python"
    }
  },
  "cells": [
    {
      "cell_type": "markdown",
      "metadata": {
        "id": "view-in-github",
        "colab_type": "text"
      },
      "source": [
        "<a href=\"https://colab.research.google.com/github/redR0b0t/ACDC/blob/master/lab_external_prep.ipynb\" target=\"_parent\"><img src=\"https://colab.research.google.com/assets/colab-badge.svg\" alt=\"Open In Colab\"/></a>"
      ]
    },
    {
      "cell_type": "code",
      "execution_count": null,
      "metadata": {
        "id": "qa_PPuO2T_zN"
      },
      "outputs": [],
      "source": [
        ""
      ]
    }
  ]
}