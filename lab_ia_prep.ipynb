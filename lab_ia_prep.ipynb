{
  "nbformat": 4,
  "nbformat_minor": 0,
  "metadata": {
    "colab": {
      "name": "lab_ia_prep.ipynb",
      "provenance": [],
      "collapsed_sections": [],
      "authorship_tag": "ABX9TyPA1IpgJFgLjU+li5AEHciD",
      "include_colab_link": true
    },
    "kernelspec": {
      "name": "python3",
      "display_name": "Python 3"
    },
    "language_info": {
      "name": "python"
    }
  },
  "cells": [
    {
      "cell_type": "markdown",
      "metadata": {
        "id": "view-in-github",
        "colab_type": "text"
      },
      "source": [
        "<a href=\"https://colab.research.google.com/github/redR0b0t/ACDC/blob/master/lab_ia_prep.ipynb\" target=\"_parent\"><img src=\"https://colab.research.google.com/assets/colab-badge.svg\" alt=\"Open In Colab\"/></a>"
      ]
    },
    {
      "cell_type": "code",
      "execution_count": null,
      "metadata": {
        "colab": {
          "base_uri": "https://localhost:8080/"
        },
        "id": "qwYQ00O4YQAM",
        "outputId": "3161520c-1ceb-436c-f1c7-b386c1c12631"
      },
      "outputs": [
        {
          "output_type": "stream",
          "name": "stdout",
          "text": [
            "['a', 'b', 'd', 'e']\n"
          ]
        },
        {
          "output_type": "execute_result",
          "data": {
            "text/plain": [
              "['a', 'b', 'd', 'e']"
            ]
          },
          "metadata": {},
          "execution_count": 7
        }
      ],
      "source": [
        "#A*\n",
        "\n",
        "def aStar(start_node,stop_node):\n",
        "\n",
        "  open_set=[start_node]\n",
        "  closed_set=[]\n",
        "  g={}\n",
        "  g[start_node]=0\n",
        "  parent={}\n",
        "  parent[start_node]=start_node\n",
        "\n",
        "  while len(open_set)>0:\n",
        "    n=None\n",
        "\n",
        "    for v in open_set:\n",
        "      if n==None or g[v]+h[v]<g[n]+h[n]:\n",
        "        n=v\n",
        "    if n==stop_node or graph_nodes[n]==None:\n",
        "      pass\n",
        "    else:\n",
        "      for (m,weight) in get_neighbors(n):\n",
        "        if m not in open_set and m not in closed_set:\n",
        "          open_set.append(m)\n",
        "          parent[m]=n\n",
        "          g[m]=g[n]+weight\n",
        "        else:\n",
        "          if g[m]>g[n]+weight:\n",
        "            g[m]=g[n]+weight\n",
        "            parent[m]=n\n",
        "            if m in closed_set:\n",
        "              closed_set.remove(m)\n",
        "              open_set.append(m)\n",
        "\n",
        "    if n==None:\n",
        "      print(\"path does not exist\")\n",
        "      return None\n",
        "    if n==stop_node:\n",
        "      path=[]\n",
        "      while parent[n]!=n:\n",
        "        path.append(n)\n",
        "        n=parent[n]\n",
        "      path.append(start_node)\n",
        "      path.reverse()\n",
        "      print(path)\n",
        "      return path\n",
        "\n",
        "    open_set.remove(n)\n",
        "    closed_set.append(n)  \n",
        "\n",
        "  print(\"path not found\")\n",
        "\n",
        "def get_neighbors(n):\n",
        "  return graph_nodes.get(n,None)\n",
        "h={'a':15,'b':10,'c':20,'d':7,'e':0}\n",
        "graph_nodes={\n",
        "    'a':[('b',6),('c',8)],\n",
        "    'b':[('d',6)],\n",
        "    'd':[('e',6)],\n",
        "    'c':[('e',6)],\n",
        "\n",
        "}\n",
        "\n",
        "aStar('a','e')"
      ]
    },
    {
      "cell_type": "code",
      "source": [
        "#AO*\n",
        "class Graph:\n",
        "  def __init__(self,graph,heuristicNodeList,start_node):\n",
        "    self.graph=graph\n",
        "    self.h=heuristicNodeList\n",
        "    self.start=start_node\n",
        "    self.parents={}\n",
        "    self.status={}\n",
        "    self.solutionGraph={}\n",
        "\n",
        "  def applyaoStar(self,v):\n",
        "    self.aoStar(v,False)\n",
        "  def getStatus(self,n):\n",
        "    return self.status.get(n,0)\n",
        "  def setStatus(self,n,val):\n",
        "    self.status[n]=val\n",
        "  def getHeuristicValue(self,n):\n",
        "    return self.h.get(n,0)\n",
        "  def setHeuristicValue(self,n,val):\n",
        "    self.h[n]=val\n",
        "  def getNeighbors(self,n):\n",
        "    return self.graph.get(n,'')\n",
        "\n",
        "  def printSolution(self):\n",
        "    print(\"solutionGraph\",self.solutionGraph)\n",
        "\n",
        "  def computeMinCostChildNodes(self,v):\n",
        "    minCost=0\n",
        "    costToChildNodes={}\n",
        "    costToChildNodes[minCost]=[]\n",
        "    flag=True\n",
        "    print(\"neighbors=\",v,self.getNeighbors(v))\n",
        "    for nodeInfoTupleList in self.getNeighbors(v):\n",
        "      cost=0\n",
        "      childNodeList=[]\n",
        "      for (n,weight) in nodeInfoTupleList:\n",
        "        cost+=self.getHeuristicValue(n)+weight\n",
        "        childNodeList.append(n)\n",
        "      if flag or minCost>cost:\n",
        "        print(\"changing minCost\")\n",
        "        minCost=cost\n",
        "        costToChildNodes[minCost]=childNodeList\n",
        "        flag=False\n",
        "    print(\"returning \",costToChildNodes[minCost])\n",
        "    return minCost,costToChildNodes[minCost]\n",
        "    \n",
        "  def aoStar(self,v,backTracking):\n",
        "    if self.getStatus(v)>=0:\n",
        "      minCost,childNodeList=self.computeMinCostChildNodes(v)\n",
        "      self.setHeuristicValue(v,minCost)\n",
        "      self.setStatus(v,len(childNodeList))\n",
        "\n",
        "      solved=True\n",
        "      for childNode in childNodeList:\n",
        "        self.parents[childNode]=v\n",
        "        if self.getStatus(childNode)!=-1:\n",
        "          solved=solved&False\n",
        "      print(childNodeList)\n",
        "\n",
        "      if solved:\n",
        "        print(\"adding to solution graph\")\n",
        "        self.setStatus(v,-1)\n",
        "        self.solutionGraph[v]=childNodeList\n",
        "\n",
        "      if v!=self.start:\n",
        "        self.aoStar(self.parents[v],True)\n",
        "\n",
        "      if not backTracking:\n",
        "        for childNode in childNodeList:\n",
        "          self.setStatus(childNode,0)\n",
        "          self.aoStar(childNode,False)\n",
        "\n",
        "if __name__==\"__main__\":\n",
        "  h1={\n",
        "      'a':6,\n",
        "      'b':8,\n",
        "      'c':9,\n",
        "      'd':12,\n",
        "      'e':0,\n",
        "  }\n",
        "  g1={\n",
        "      'a':[[('b',6),('c',6)],[('d',6)]],\n",
        "      'b':[[('e',6)]]\n",
        "  }\n",
        "  ao1=Graph(g1,h1,'a')\n",
        "  ao1.applyaoStar('a')\n",
        "  ao1.printSolution()\n",
        "  \n",
        "      "
      ],
      "metadata": {
        "colab": {
          "base_uri": "https://localhost:8080/"
        },
        "id": "451D9ATpf6Nj",
        "outputId": "2cdd7552-53d9-492c-f412-d663031ba2ff"
      },
      "execution_count": null,
      "outputs": [
        {
          "output_type": "stream",
          "name": "stdout",
          "text": [
            "neighbors= a [[('b', 6), ('c', 6)], [('d', 6)]]\n",
            "changing minCost\n",
            "changing minCost\n",
            "returning  ['d']\n",
            "['d']\n",
            "neighbors= d \n",
            "returning  []\n",
            "[]\n",
            "adding to solution graph\n",
            "neighbors= a [[('b', 6), ('c', 6)], [('d', 6)]]\n",
            "changing minCost\n",
            "changing minCost\n",
            "returning  ['d']\n",
            "['d']\n",
            "adding to solution graph\n",
            "solutionGraph {'d': [], 'a': ['d']}\n"
          ]
        }
      ]
    },
    {
      "cell_type": "code",
      "source": [
        "#CE\n",
        "\n",
        "import csv\n",
        "import random\n",
        "\n",
        "def g_0(n):\n",
        "  return (\"?\",)*n\n",
        "def s_0(n):\n",
        "  return (\"$\",)*n\n",
        "def more_general(h1,h2):\n",
        "  more_general_parts=[]\n",
        "  for x,y in zip(h1,h2):\n",
        "    mg=x==\"?\" or (x!='$' and (x==y or y=='$'))\n",
        "    more_general_parts.append(mg)\n",
        "  return all(more_general_parts)\n",
        "def fulfills(example,h):\n",
        "  return more_general(h,example)\n",
        "def min_generalizations(h,x):\n",
        "  h_new=list(h)\n",
        "  for i in range(len(h)):\n",
        "    if not fulfills(x[i:i+1],h[i:i+1]):\n",
        "      h_new[i]=\"?\" if h[i]!='$' else x[i]\n",
        "  return [tuple(h_new)]\n",
        "\n",
        "def min_specializations(h,domains,x):\n",
        "  results=[]\n",
        "  for i in range(len(h)):\n",
        "    if h[i]=='?':\n",
        "      for val in domains[i]:\n",
        "        if x[i]!=val:\n",
        "          h_new=h[:i]+(val,)+h[i+1:]\n",
        "          results.append(h_new)\n",
        "    elif h[i]!='$':\n",
        "      h_new=h[:i]+('$,')+h[i+1:]\n",
        "      results.append(h_new)\n",
        "  return results\n",
        "    \n",
        "\n",
        "examples=[]\n",
        "with open('trainingExamples.csv') as csvFile:\n",
        "  examples=[tuple(line) for line in csv.reader(csvFile)]\n",
        "\n",
        "def getDomains(examples):\n",
        "  d=[set() for i in range(len(examples[0]))]\n",
        "  for x in examples:\n",
        "    for i ,xi in enumerate(x):\n",
        "      d[i].add(xi)\n",
        "  print(d)\n",
        "  return d\n",
        "\n",
        "\n",
        "def candidateElimination(examples):\n",
        "  domains=getDomains(examples)[:-1]\n",
        "  G=set([g_0(len(domains))])\n",
        "  S=set([s_0(len(domains))])\n",
        "  for xcx in examples:\n",
        "    print(G,S,sep='\\n')\n",
        "    x,cx=xcx[:-1],xcx[-1]\n",
        "    if cx=='Y':\n",
        "      G={g for g in G if fulfills(x,g)}\n",
        "      S=generalize_S(x,G,S)\n",
        "    else:\n",
        "      S={s for s in S if not fulfills(x,s)}\n",
        "      G=specialize_G(x,domains,G,S)\n",
        "\n",
        "  print(G,S,sep='\\n')\n",
        "\n",
        "def generalize_S(x,G,S):\n",
        "  s_prev=list(S)\n",
        "  for s in s_prev:\n",
        "    if s not in S:\n",
        "      continue\n",
        "    if not fulfills(x,s):\n",
        "      S.remove(s)\n",
        "      splus=min_generalizations(s,x)\n",
        "      S.update([h1 for h1 in splus if any([more_general(h2,h1) for h2 in G])])\n",
        "      S.difference_update([h1 for h1 in S if any([more_general(h1,h2) for h2 in S if h1!=h2])])\n",
        "\n",
        "  return S\n",
        "  \n",
        "def specialize_G(x,domains,G,S):\n",
        "  # print(G)\n",
        "  g_prev=list(G)\n",
        "  for g in g_prev:\n",
        "    if g not in G:\n",
        "      continue\n",
        "    if fulfills(x,g):\n",
        "      G.remove(g)\n",
        "      gminus=min_specializations(g,domains,x)\n",
        "      G.update([h1 for h1 in gminus if any([more_general(h1,h2) for h2 in S])])\n",
        "      G.difference_update([h1 for h1 in G if any([more_general(h2,h1) for h2 in G if h1!=h2])])\n",
        "  return G\n",
        "\n",
        "candidateElimination(examples)  \n"
      ],
      "metadata": {
        "colab": {
          "base_uri": "https://localhost:8080/"
        },
        "id": "PHPGQUArjzJt",
        "outputId": "3bfd2a75-739d-4170-8379-9dfe15f9763a"
      },
      "execution_count": null,
      "outputs": [
        {
          "output_type": "stream",
          "name": "stdout",
          "text": [
            "[{'mild', 'low', 'high'}, {'cold', 'warm'}, {'sunny'}, {'Y', 'N'}]\n",
            "{('?', '?', '?')}\n",
            "{('$', '$', '$')}\n",
            "{('?', 'warm', '?'), ('mild', '?', '?'), ('low', '?', '?')}\n",
            "{('$', '$', '$')}\n",
            "{('?', 'warm', '?'), ('low', '?', '?')}\n",
            "{('low', 'warm', 'sunny')}\n",
            "{('?', 'warm', '?')}\n",
            "{('?', 'warm', 'sunny')}\n",
            "{('?', 'warm', '?')}\n",
            "{('?', 'warm', 'sunny')}\n"
          ]
        }
      ]
    },
    {
      "cell_type": "code",
      "source": [
        "#knn\n",
        "\n",
        "from sklearn.datasets import load_iris\n",
        "from sklearn.neighbors import KNeighborsClassifier\n",
        "from sklearn.model_selection import train_test_split\n",
        "import numpy as np\n",
        "\n",
        "iris_dataset=load_iris()\n",
        "x_train,x_test,y_train,y_test=train_test_split(iris_dataset['data'],iris_dataset['target'],random_state=0)\n",
        "print(x_train,y_train,sep='\\n')\n",
        "knn=KNeighborsClassifier(n_neighbors=5)\n",
        "knn.fit(x_train,y_train)\n",
        "\n",
        "for i in range(len(x_test)):\n",
        "  x_new=np.array([x_test[i]])\n",
        "  prediction=knn.predict(x_new)\n",
        "  print(\"actual {0} {1}\".format(y_test[i],iris_dataset['target_names'][y_test[i]]),end='   ')\n",
        "  print(\"predicted {0} {1}\".format(prediction,iris_dataset['target_names'][prediction]))\n",
        "\n",
        "print(\"accuracy score=\",knn.score(x_test,y_test))\n",
        "\n"
      ],
      "metadata": {
        "colab": {
          "base_uri": "https://localhost:8080/"
        },
        "id": "oVna2pzN-KN4",
        "outputId": "4987ee0d-9cd5-487a-e08a-c304f3c3ccff"
      },
      "execution_count": null,
      "outputs": [
        {
          "output_type": "stream",
          "name": "stdout",
          "text": [
            "[[5.9 3.  4.2 1.5]\n",
            " [5.8 2.6 4.  1.2]\n",
            " [6.8 3.  5.5 2.1]\n",
            " [4.7 3.2 1.3 0.2]\n",
            " [6.9 3.1 5.1 2.3]\n",
            " [5.  3.5 1.6 0.6]\n",
            " [5.4 3.7 1.5 0.2]\n",
            " [5.  2.  3.5 1. ]\n",
            " [6.5 3.  5.5 1.8]\n",
            " [6.7 3.3 5.7 2.5]\n",
            " [6.  2.2 5.  1.5]\n",
            " [6.7 2.5 5.8 1.8]\n",
            " [5.6 2.5 3.9 1.1]\n",
            " [7.7 3.  6.1 2.3]\n",
            " [6.3 3.3 4.7 1.6]\n",
            " [5.5 2.4 3.8 1.1]\n",
            " [6.3 2.7 4.9 1.8]\n",
            " [6.3 2.8 5.1 1.5]\n",
            " [4.9 2.5 4.5 1.7]\n",
            " [6.3 2.5 5.  1.9]\n",
            " [7.  3.2 4.7 1.4]\n",
            " [6.5 3.  5.2 2. ]\n",
            " [6.  3.4 4.5 1.6]\n",
            " [4.8 3.1 1.6 0.2]\n",
            " [5.8 2.7 5.1 1.9]\n",
            " [5.6 2.7 4.2 1.3]\n",
            " [5.6 2.9 3.6 1.3]\n",
            " [5.5 2.5 4.  1.3]\n",
            " [6.1 3.  4.6 1.4]\n",
            " [7.2 3.2 6.  1.8]\n",
            " [5.3 3.7 1.5 0.2]\n",
            " [4.3 3.  1.1 0.1]\n",
            " [6.4 2.7 5.3 1.9]\n",
            " [5.7 3.  4.2 1.2]\n",
            " [5.4 3.4 1.7 0.2]\n",
            " [5.7 4.4 1.5 0.4]\n",
            " [6.9 3.1 4.9 1.5]\n",
            " [4.6 3.1 1.5 0.2]\n",
            " [5.9 3.  5.1 1.8]\n",
            " [5.1 2.5 3.  1.1]\n",
            " [4.6 3.4 1.4 0.3]\n",
            " [6.2 2.2 4.5 1.5]\n",
            " [7.2 3.6 6.1 2.5]\n",
            " [5.7 2.9 4.2 1.3]\n",
            " [4.8 3.  1.4 0.1]\n",
            " [7.1 3.  5.9 2.1]\n",
            " [6.9 3.2 5.7 2.3]\n",
            " [6.5 3.  5.8 2.2]\n",
            " [6.4 2.8 5.6 2.1]\n",
            " [5.1 3.8 1.6 0.2]\n",
            " [4.8 3.4 1.6 0.2]\n",
            " [6.5 3.2 5.1 2. ]\n",
            " [6.7 3.3 5.7 2.1]\n",
            " [4.5 2.3 1.3 0.3]\n",
            " [6.2 3.4 5.4 2.3]\n",
            " [4.9 3.  1.4 0.2]\n",
            " [5.7 2.5 5.  2. ]\n",
            " [6.9 3.1 5.4 2.1]\n",
            " [4.4 3.2 1.3 0.2]\n",
            " [5.  3.6 1.4 0.2]\n",
            " [7.2 3.  5.8 1.6]\n",
            " [5.1 3.5 1.4 0.3]\n",
            " [4.4 3.  1.3 0.2]\n",
            " [5.4 3.9 1.7 0.4]\n",
            " [5.5 2.3 4.  1.3]\n",
            " [6.8 3.2 5.9 2.3]\n",
            " [7.6 3.  6.6 2.1]\n",
            " [5.1 3.5 1.4 0.2]\n",
            " [4.9 3.1 1.5 0.2]\n",
            " [5.2 3.4 1.4 0.2]\n",
            " [5.7 2.8 4.5 1.3]\n",
            " [6.6 3.  4.4 1.4]\n",
            " [5.  3.2 1.2 0.2]\n",
            " [5.1 3.3 1.7 0.5]\n",
            " [6.4 2.9 4.3 1.3]\n",
            " [5.4 3.4 1.5 0.4]\n",
            " [7.7 2.6 6.9 2.3]\n",
            " [4.9 2.4 3.3 1. ]\n",
            " [7.9 3.8 6.4 2. ]\n",
            " [6.7 3.1 4.4 1.4]\n",
            " [5.2 4.1 1.5 0.1]\n",
            " [6.  3.  4.8 1.8]\n",
            " [5.8 4.  1.2 0.2]\n",
            " [7.7 2.8 6.7 2. ]\n",
            " [5.1 3.8 1.5 0.3]\n",
            " [4.7 3.2 1.6 0.2]\n",
            " [7.4 2.8 6.1 1.9]\n",
            " [5.  3.3 1.4 0.2]\n",
            " [6.3 3.4 5.6 2.4]\n",
            " [5.7 2.8 4.1 1.3]\n",
            " [5.8 2.7 3.9 1.2]\n",
            " [5.7 2.6 3.5 1. ]\n",
            " [6.4 3.2 5.3 2.3]\n",
            " [6.7 3.  5.2 2.3]\n",
            " [6.3 2.5 4.9 1.5]\n",
            " [6.7 3.  5.  1.7]\n",
            " [5.  3.  1.6 0.2]\n",
            " [5.5 2.4 3.7 1. ]\n",
            " [6.7 3.1 5.6 2.4]\n",
            " [5.8 2.7 5.1 1.9]\n",
            " [5.1 3.4 1.5 0.2]\n",
            " [6.6 2.9 4.6 1.3]\n",
            " [5.6 3.  4.1 1.3]\n",
            " [5.9 3.2 4.8 1.8]\n",
            " [6.3 2.3 4.4 1.3]\n",
            " [5.5 3.5 1.3 0.2]\n",
            " [5.1 3.7 1.5 0.4]\n",
            " [4.9 3.1 1.5 0.1]\n",
            " [6.3 2.9 5.6 1.8]\n",
            " [5.8 2.7 4.1 1. ]\n",
            " [7.7 3.8 6.7 2.2]\n",
            " [4.6 3.2 1.4 0.2]]\n",
            "[1 1 2 0 2 0 0 1 2 2 2 2 1 2 1 1 2 2 2 2 1 2 1 0 2 1 1 1 1 2 0 0 2 1 0 0 1\n",
            " 0 2 1 0 1 2 1 0 2 2 2 2 0 0 2 2 0 2 0 2 2 0 0 2 0 0 0 1 2 2 0 0 0 1 1 0 0\n",
            " 1 0 2 1 2 1 0 2 0 2 0 0 2 0 2 1 1 1 2 2 1 1 0 1 2 2 0 1 1 1 1 0 0 0 2 1 2\n",
            " 0]\n",
            "actual 2 virginica   predicted [2] ['virginica']\n",
            "actual 1 versicolor   predicted [1] ['versicolor']\n",
            "actual 0 setosa   predicted [0] ['setosa']\n",
            "actual 2 virginica   predicted [2] ['virginica']\n",
            "actual 0 setosa   predicted [0] ['setosa']\n",
            "actual 2 virginica   predicted [2] ['virginica']\n",
            "actual 0 setosa   predicted [0] ['setosa']\n",
            "actual 1 versicolor   predicted [1] ['versicolor']\n",
            "actual 1 versicolor   predicted [1] ['versicolor']\n",
            "actual 1 versicolor   predicted [1] ['versicolor']\n",
            "actual 2 virginica   predicted [2] ['virginica']\n",
            "actual 1 versicolor   predicted [1] ['versicolor']\n",
            "actual 1 versicolor   predicted [1] ['versicolor']\n",
            "actual 1 versicolor   predicted [1] ['versicolor']\n",
            "actual 1 versicolor   predicted [1] ['versicolor']\n",
            "actual 0 setosa   predicted [0] ['setosa']\n",
            "actual 1 versicolor   predicted [1] ['versicolor']\n",
            "actual 1 versicolor   predicted [1] ['versicolor']\n",
            "actual 0 setosa   predicted [0] ['setosa']\n",
            "actual 0 setosa   predicted [0] ['setosa']\n",
            "actual 2 virginica   predicted [2] ['virginica']\n",
            "actual 1 versicolor   predicted [1] ['versicolor']\n",
            "actual 0 setosa   predicted [0] ['setosa']\n",
            "actual 0 setosa   predicted [0] ['setosa']\n",
            "actual 2 virginica   predicted [2] ['virginica']\n",
            "actual 0 setosa   predicted [0] ['setosa']\n",
            "actual 0 setosa   predicted [0] ['setosa']\n",
            "actual 1 versicolor   predicted [1] ['versicolor']\n",
            "actual 1 versicolor   predicted [1] ['versicolor']\n",
            "actual 0 setosa   predicted [0] ['setosa']\n",
            "actual 2 virginica   predicted [2] ['virginica']\n",
            "actual 1 versicolor   predicted [1] ['versicolor']\n",
            "actual 0 setosa   predicted [0] ['setosa']\n",
            "actual 2 virginica   predicted [2] ['virginica']\n",
            "actual 2 virginica   predicted [2] ['virginica']\n",
            "actual 1 versicolor   predicted [1] ['versicolor']\n",
            "actual 0 setosa   predicted [0] ['setosa']\n",
            "actual 1 versicolor   predicted [2] ['virginica']\n",
            "accuracy score= 0.9736842105263158\n"
          ]
        }
      ]
    },
    {
      "cell_type": "code",
      "source": [
        "\n",
        "#id3\n",
        "\n",
        "import pandas as pd\n",
        "\n",
        "df=pd.read_csv(\"trainingExamples.csv\")\n",
        "\n",
        "def entropy(probs):\n",
        "  import math\n",
        "  return sum([-prob*math.log(prob,2) for prob in probs])\n",
        "\n",
        "def entropy_list(a_list):\n",
        "  from collections import Counter\n",
        "  cnt=Counter(x for x in a_list)\n",
        "  num_instances=len(a_list)\n",
        "  probs=[x/num_instances for x in cnt.values()]\n",
        "  return entropy(probs)\n",
        "\n",
        "def information_gain(df,split_attr,target_attr):\n",
        "  df_split=df.groupby(split_attr)\n",
        "  nobs=1.0*len(df.index)\n",
        "  df_agg_ent=df_split.agg({target_attr:[entropy_list,lambda x: len(x)/nobs]})[target_attr]\n",
        "  df_agg_ent.columns=['entropy','propObservations']\n",
        "  new_entropy=sum(df_agg_ent['entropy']*df_agg_ent['propObservations'])\n",
        "  old_entropy=entropy_list(df[target_attr])\n",
        "  return old_entropy-new_entropy\n",
        "\n",
        "def id3(df,target_attr,attr_names,default_class=None):\n",
        "  from collections import Counter\n",
        "\n",
        "  cnt=Counter(x for x in df[target_attr])\n",
        "\n",
        "  if len(cnt)==1:\n",
        "    return next(iter(cnt))\n",
        "  elif df.empty or (not attr_names):\n",
        "    return default_class\n",
        "  else:\n",
        "    gainz=[information_gain(df,attr,target_attr) for attr in attr_names]\n",
        "    best_index=gainz.index(max(gainz))\n",
        "    best_attr=attr_names[best_index]\n",
        "    tree={best_attr:{}}\n",
        "    remaining_attr=[attr for attr in attr_names if attr!=best_attr]\n",
        "    for attr_val,subset in df.groupby(best_attr):\n",
        "      subtree=id3(subset,target_attr,attr_names)\n",
        "      tree[best_attr][attr_val]=subtree\n",
        "  return tree\n",
        "\n",
        "\n",
        "def classify(instance,tree,default=None):\n",
        "  attr=next(iter(tree))\n",
        "  if instance[attr] in tree[attr].keys():\n",
        "    result=tree[attr][instance[attr]]\n",
        "    if isinstance(result,dict):\n",
        "      classify(instance,result)\n",
        "    else:\n",
        "      return result\n",
        "  else:\n",
        "    return default\n",
        "\n",
        "all_attrs=list(df.columns)\n",
        "target_attr=all_attrs[-1]\n",
        "attr_names=all_attrs[:-1]\n",
        "id3(df,target_attr,attr_names)\n",
        "\n"
      ],
      "metadata": {
        "colab": {
          "base_uri": "https://localhost:8080/"
        },
        "id": "zNes0Szm-89J",
        "outputId": "60889522-1643-4efd-af7f-b96a08e6d3de"
      },
      "execution_count": null,
      "outputs": [
        {
          "output_type": "execute_result",
          "data": {
            "text/plain": [
              "{'temp': {'cold': 'N', 'warm': 'Y'}}"
            ]
          },
          "metadata": {},
          "execution_count": 5
        }
      ]
    },
    {
      "cell_type": "code",
      "source": [
        "#ANN\n",
        "import numpy as np\n",
        "x=np.array(([2,9],[1,5],[3,6]),dtype=float)\n",
        "y=np.array(([92],[6],[8]),dtype=float)\n",
        "\n",
        "x=x/np.amax(x,axis=0)\n",
        "y=y/100\n",
        "\n",
        "def sigmoid(x):\n",
        "  return 1/(1+np.exp(-x))\n",
        "def derivative_sigmoid(x):\n",
        "  return x*(1-x)\n",
        "\n",
        "epoch=50000\n",
        "lr=0.1\n",
        "il_neurons=2\n",
        "hl_neurons=3\n",
        "ol_neurons=1\n",
        "\n",
        "wh=np.random.uniform(size=(il_neurons,hl_neurons))\n",
        "bh=np.random.uniform(size=(1,hl_neurons))\n",
        "\n",
        "wout=np.random.uniform(size=(hl_neurons,ol_neurons))\n",
        "bout=np.random.uniform(size=(1,ol_neurons))\n",
        "\n",
        "for i in range(epoch):\n",
        "  hinp1=np.dot(x,wh)\n",
        "  hinp=hinp1+bh\n",
        "  hlayer_act=sigmoid(hinp)\n",
        "\n",
        "  outinp1=np.dot(hlayer_act,wout)\n",
        "  outinp=outinp1+bout\n",
        "  output=sigmoid(outinp)\n",
        "\n",
        "  EO=y-output\n",
        "  outgrad=derivative_sigmoid(output)\n",
        "  d_output=EO*outgrad\n",
        "\n",
        "  EH=d_output.dot(wout.T)\n",
        "  hiddengrad=derivative_sigmoid(hlayer_act)\n",
        "  d_hidden=EH*hiddengrad\n",
        "\n",
        "  wh+=x.T.dot(d_hidden)*lr\n",
        "  wout+=hlayer_act.T.dot(d_output)*lr\n",
        "\n",
        "print(x,y,output,sep='\\n')\n",
        "\n"
      ],
      "metadata": {
        "colab": {
          "base_uri": "https://localhost:8080/"
        },
        "id": "G4yFJuKR6lXk",
        "outputId": "e1ce175a-1e98-4603-83f1-294c8f56b9ae"
      },
      "execution_count": null,
      "outputs": [
        {
          "output_type": "stream",
          "name": "stdout",
          "text": [
            "[[0.66666667 1.        ]\n",
            " [0.33333333 0.55555556]\n",
            " [1.         0.66666667]]\n",
            "[[0.92]\n",
            " [0.06]\n",
            " [0.08]]\n",
            "[[0.89172478]\n",
            " [0.09318986]\n",
            " [0.08216614]]\n"
          ]
        }
      ]
    },
    {
      "cell_type": "code",
      "source": [
        "\n",
        "#kmeans ang GM\n",
        "\n",
        "import sklearn.metrics as sm\n",
        "from sklearn.cluster import KMeans\n",
        "from sklearn.datasets import load_iris\n",
        "import pandas as pd\n",
        "import matplotlib.pyplot as plt\n",
        "import numpy as np\n",
        "\n",
        "l1=[0,1,2]\n",
        "def rename(s):\n",
        "  l2=[]\n",
        "  for i in s:\n",
        "    if i not in l2:\n",
        "      l2.append(i)\n",
        "  for i in range(len(s)):\n",
        "    pos=l2.index(s[i])\n",
        "    s[i]=l1[pos]\n",
        "  return s\n",
        "\n",
        "idata=load_iris()\n",
        "x=pd.DataFrame(idata.data)\n",
        "x.columns=[\"sepal_length\",'sepal_width','petal_length','petal_width']\n",
        "\n",
        "y=pd.DataFrame(idata.target)\n",
        "y.columns=['target']\n",
        "\n",
        "colormap=np.array(['red','lime','black'])\n",
        "# plt.figure(figsize=(14,7))\n",
        "plt.subplot(1,2,1)\n",
        "plt.scatter(x.petal_length,x.petal_width,c=colormap[y.target],s=40)\n",
        "plt.title(\"real classification\")\n",
        "plt.show()\n",
        "\n",
        "\n",
        "model=KMeans(n_clusters=3)\n",
        "model.fit(x)\n",
        "plt.subplot(1,2,1)\n",
        "plt.scatter(x.petal_length,x.petal_width,c=colormap[model.labels_],s=40)\n",
        "plt.title('kmeans classification')\n",
        "plt.show()\n",
        "\n",
        "\n",
        "\n",
        "km=rename(model.labels_)\n",
        "print(km)\n",
        "print(\"accuracy of km=\",sm.accuracy_score(y,km))\n",
        "print(\"confusion matrix=\",sm.confusion_matrix(y,km))\n",
        "\n",
        "\n",
        "from sklearn import preprocessing\n",
        "scalar=preprocessing.StandardScaler()\n",
        "scalar.fit(x)\n",
        "xsa=scalar.transform(x)\n",
        "xs=pd.DataFrame(xsa,columns=['sepal_lenght','sepal_width','petal_leght','petal_width'])\n",
        "print(xs.sample(5))\n",
        "\n",
        "from sklearn.mixture import GaussianMixture\n",
        "gm=GaussianMixture(n_components=3)\n",
        "gm.fit(xs)\n",
        "y_cluster_gmm=gm.predict(xs)\n",
        "\n",
        "plt.subplot(1,2,1)\n",
        "plt.scatter(x.petal_length,x.petal_width,c=colormap[y_cluster_gmm],s=40)\n",
        "plt.title(\"GMM classification\")\n",
        "\n",
        "plt.show()\n",
        "\n",
        "em=rename(y_cluster_gmm)\n",
        "print(em)\n",
        "print(\"accuracy=\",sm.accuracy_score(y,em))\n",
        "print(\"confusion matrix=\",sm.confusion_matrix(y,em))\n",
        "\n",
        "\n"
      ],
      "metadata": {
        "id": "Gbqg9tW2OJeF",
        "colab": {
          "base_uri": "https://localhost:8080/",
          "height": 1000
        },
        "outputId": "27f8cc7c-79d7-476c-8c36-c7c778b4bd98"
      },
      "execution_count": 22,
      "outputs": [
        {
          "output_type": "display_data",
          "data": {
            "image/png": "[encoded data removed]",
            "text/plain": [
              "<Figure size 432x288 with 1 Axes>"
            ]
          },
          "metadata": {
            "needs_background": "light"
          }
        },
        {
          "output_type": "display_data",
          "data": {
            "image/png": "[encoded data removed]",
            "text/plain": [
              "<Figure size 432x288 with 1 Axes>"
            ]
          },
          "metadata": {
            "needs_background": "light"
          }
        },
        {
          "output_type": "stream",
          "name": "stdout",
          "text": [
            "[0 0 0 0 0 0 0 0 0 0 0 0 0 0 0 0 0 0 0 0 0 0 0 0 0 0 0 0 0 0 0 0 0 0 0 0 0\n",
            " 0 0 0 0 0 0 0 0 0 0 0 0 0 1 1 2 1 1 1 1 1 1 1 1 1 1 1 1 1 1 1 1 1 1 1 1 1\n",
            " 1 1 1 2 1 1 1 1 1 1 1 1 1 1 1 1 1 1 1 1 1 1 1 1 1 1 2 1 2 2 2 2 1 2 2 2 2\n",
            " 2 2 1 1 2 2 2 2 1 2 1 2 1 2 2 1 1 2 2 2 2 2 1 2 2 2 2 1 2 2 2 1 2 2 2 1 2\n",
            " 2 1]\n",
            "accuracy of km= 0.8933333333333333\n",
            "confusion matrix= [[50  0  0]\n",
            " [ 0 48  2]\n",
            " [ 0 14 36]]\n",
            "     sepal_lenght  sepal_width  petal_leght  petal_width\n",
            "49      -1.021849     0.558611    -1.340227    -1.315444\n",
            "59      -0.779513    -0.822570     0.080709     0.264142\n",
            "37      -1.143017     1.249201    -1.340227    -1.447076\n",
            "101     -0.052506    -0.822570     0.762758     0.922303\n",
            "115      0.674501     0.328414     0.876433     1.448832\n"
          ]
        },
        {
          "output_type": "display_data",
          "data": {
            "image/png": "[encoded data removed]",
            "text/plain": [
              "<Figure size 432x288 with 1 Axes>"
            ]
          },
          "metadata": {
            "needs_background": "light"
          }
        },
        {
          "output_type": "stream",
          "name": "stdout",
          "text": [
            "[0 0 0 0 0 0 0 0 0 0 0 0 0 0 0 0 0 0 0 0 0 0 0 0 0 0 0 0 0 0 0 0 0 0 0 0 0\n",
            " 0 0 0 0 0 0 0 0 0 0 0 0 0 1 1 1 1 1 1 1 1 1 1 1 1 1 1 1 1 1 1 2 1 2 1 2 1\n",
            " 1 1 1 2 1 1 1 1 1 2 1 1 1 1 1 1 1 1 1 1 1 1 1 1 1 1 2 2 2 2 2 2 2 2 2 2 2\n",
            " 2 2 2 2 2 2 2 2 2 2 2 2 2 2 2 2 2 2 2 2 2 2 2 2 2 2 2 2 2 2 2 2 2 2 2 2 2\n",
            " 2 2]\n",
            "accuracy= 0.9666666666666667\n",
            "confusion matrix= [[50  0  0]\n",
            " [ 0 45  5]\n",
            " [ 0  0 50]]\n"
          ]
        }
      ]
    },
    {
      "cell_type": "code",
      "source": [
        "\n",
        "#locally weighted logistic regression\n",
        "\n",
        "import numpy as np\n",
        "import matplotlib.pyplot as plt\n",
        "\n",
        "def local_regression(x0,x,y,tau):\n",
        "  x0=[1,x0]\n",
        "  x=[[1,i] for i in x]\n",
        "  x=np.asarray(x)\n",
        "  xw=x.T * np.exp(np.sum((x-x0)**2,axis=1)/(-2*tau))\n",
        "  beta=np.linalg.pinv(xw@x)@xw@y@x0\n",
        "  return beta\n",
        "\n",
        "def draw(tau):\n",
        "  predictions=[local_regression(x0,x,y,tau) for x0 in domains]\n",
        "  plt.plot(x,y,'o',color='black')\n",
        "  plt.plot(domains,predictions,color='red')\n",
        "  plt.show()\n",
        "\n",
        "x=np.linspace(-3,3,num=1000)\n",
        "domains=x\n",
        "y=np.log(np.abs(x**2-1)+0.5)\n",
        "\n",
        "draw(10)\n",
        "draw(1)\n",
        "draw(0.1)\n",
        "draw(0.01)"
      ],
      "metadata": {
        "colab": {
          "base_uri": "https://localhost:8080/",
          "height": 1000
        },
        "id": "ssvbgoo7iVHa",
        "outputId": "7b8af94d-45f0-479b-e0c2-f28b0c512eae"
      },
      "execution_count": 29,
      "outputs": [
        {
          "output_type": "display_data",
          "data": {
            "image/png": "[encoded data removed]",
            "text/plain": [
              "<Figure size 432x288 with 1 Axes>"
            ]
          },
          "metadata": {
            "needs_background": "light"
          }
        },
        {
          "output_type": "display_data",
          "data": {
            "image/png": "[encoded data removed]",
            "text/plain": [
              "<Figure size 432x288 with 1 Axes>"
            ]
          },
          "metadata": {
            "needs_background": "light"
          }
        },
        {
          "output_type": "display_data",
          "data": {
            "image/png": "[encoded data removed]",
            "text/plain": [
              "<Figure size 432x288 with 1 Axes>"
            ]
          },
          "metadata": {
            "needs_background": "light"
          }
        },
        {
          "output_type": "display_data",
          "data": {
            "image/png": "[encoded data removed]",
            "text/plain": [
              "<Figure size 432x288 with 1 Axes>"
            ]
          },
          "metadata": {
            "needs_background": "light"
          }
        }
      ]
    },
    {
      "cell_type": "code",
      "source": [
        ""
      ],
      "metadata": {
        "id": "MFgumVXqnt-l"
      },
      "execution_count": null,
      "outputs": []
    }
  ]
}